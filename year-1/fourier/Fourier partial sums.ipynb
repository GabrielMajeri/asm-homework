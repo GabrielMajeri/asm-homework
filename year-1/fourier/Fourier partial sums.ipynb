{
 "cells": [
  {
   "cell_type": "code",
   "execution_count": null,
   "id": "provincial-calendar",
   "metadata": {},
   "outputs": [],
   "source": [
    "import numpy as np\n",
    "import matplotlib.pyplot as plt\n",
    "%matplotlib notebook"
   ]
  },
  {
   "cell_type": "code",
   "execution_count": null,
   "id": "f909009e",
   "metadata": {},
   "outputs": [],
   "source": [
    "def make_periodic(x, period):\n",
    "    # Based on https://stackoverflow.com/a/32669177/5723188\n",
    "    return (x + period) % (2 * period) - period"
   ]
  },
  {
   "cell_type": "markdown",
   "id": "0b2d2df8",
   "metadata": {},
   "source": [
    "$$\n",
    "f \\colon [-\\pi, \\pi) \\to \\mathbb{R} \\\\\n",
    "f(x) = \\operatorname{sgn}(x)\n",
    "$$\n",
    "\n",
    "$$\n",
    "S_{2N - 1} (f, x) = \\frac{4}{\\pi} \\left(\\frac{\\sin x}{1} + \\frac{\\sin 3x}{3} + \\dots + \\frac{\\sin (2N - 1) x}{2N - 1}\\right)\n",
    "$$"
   ]
  },
  {
   "cell_type": "code",
   "execution_count": null,
   "id": "accepted-isaac",
   "metadata": {},
   "outputs": [],
   "source": [
    "def f(x):\n",
    "    return np.sign(make_periodic(x, np.pi))\n",
    "\n",
    "def partial_sum(n, x):\n",
    "    return 4/np.pi * sum(np.sin(k * x)/k for k in range(1, 2*n, 2))\n",
    "\n",
    "x = np.linspace(-np.pi, 3 * np.pi, 1000)\n",
    "\n",
    "plt.figure()\n",
    "plt.plot(x, f(x), label='$f(x)$')\n",
    "\n",
    "for N in (2, 5, 10):\n",
    "    n = 2 * N - 1\n",
    "    plt.plot(x, partial_sum(n, x), label=f'$S_{{{n}}}(f, x)$')\n",
    "\n",
    "plt.legend()\n",
    "plt.show()"
   ]
  },
  {
   "cell_type": "markdown",
   "id": "bc205986",
   "metadata": {},
   "source": [
    "$$\n",
    "f \\colon [0, 2\\pi) \\to \\mathbb{R} \\\\\n",
    "f(x) = \\frac{1}{2} (\\pi - x)\n",
    "$$\n",
    "\n",
    "$$\n",
    "S_N (f, x) = \\frac{\\sin x}{1} + \\frac{\\sin 2x}{2} + \\dots + \\frac{\\sin N x}{N}\n",
    "$$"
   ]
  },
  {
   "cell_type": "code",
   "execution_count": null,
   "id": "stretch-thailand",
   "metadata": {},
   "outputs": [],
   "source": [
    "def f(x):\n",
    "    return - 0.5 * make_periodic(x - np.pi, np.pi)\n",
    "\n",
    "def partial_sum(n, x):\n",
    "    return sum(np.sin(k * x)/k for k in range(1, n + 1))\n",
    "\n",
    "x = np.linspace(0, 4 * np.pi, 1000)\n",
    "\n",
    "plt.figure()\n",
    "plt.plot(x, f(x), label='$f(x)$')\n",
    "\n",
    "for n in (2, 5, 10):\n",
    "    plt.plot(x, partial_sum(n, x), label=f'$S_{{{n}}}(f, x)$')\n",
    "\n",
    "plt.legend()\n",
    "plt.show()"
   ]
  },
  {
   "cell_type": "code",
   "execution_count": null,
   "id": "674dd50b",
   "metadata": {},
   "outputs": [],
   "source": []
  }
 ],
 "metadata": {
  "kernelspec": {
   "display_name": "Python 3 (ipykernel)",
   "language": "python",
   "name": "python3"
  },
  "language_info": {
   "codemirror_mode": {
    "name": "ipython",
    "version": 3
   },
   "file_extension": ".py",
   "mimetype": "text/x-python",
   "name": "python",
   "nbconvert_exporter": "python",
   "pygments_lexer": "ipython3",
   "version": "3.10.0"
  }
 },
 "nbformat": 4,
 "nbformat_minor": 5
}
